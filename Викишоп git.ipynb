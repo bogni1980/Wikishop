{
 "cells": [
  {
   "cell_type": "markdown",
   "metadata": {
    "toc": true
   },
   "source": [
    "<h1>Содержание<span class=\"tocSkip\"></span></h1>\n",
    "<div class=\"toc\"><ul class=\"toc-item\"><li><span><a href=\"#Подготовка\" data-toc-modified-id=\"Подготовка-1\"><span class=\"toc-item-num\">1&nbsp;&nbsp;</span>Подготовка</a></span></li><li><span><a href=\"#Обучение\" data-toc-modified-id=\"Обучение-2\"><span class=\"toc-item-num\">2&nbsp;&nbsp;</span>Обучение</a></span></li><li><span><a href=\"#Выводы\" data-toc-modified-id=\"Выводы-3\"><span class=\"toc-item-num\">3&nbsp;&nbsp;</span>Выводы</a></span></li><li><span><a href=\"#Чек-лист-проверки\" data-toc-modified-id=\"Чек-лист-проверки-4\"><span class=\"toc-item-num\">4&nbsp;&nbsp;</span>Чек-лист проверки</a></span></li></ul></div>"
   ]
  },
  {
   "cell_type": "markdown",
   "metadata": {},
   "source": [
    "# Проект для «Викишоп»"
   ]
  },
  {
   "cell_type": "markdown",
   "metadata": {},
   "source": [
    "Интернет-магазин «Викишоп» запускает новый сервис. Теперь пользователи могут редактировать и дополнять описания товаров, как в вики-сообществах. То есть клиенты предлагают свои правки и комментируют изменения других. Магазину нужен инструмент, который будет искать токсичные комментарии и отправлять их на модерацию. \n",
    "\n",
    "Обучите модель классифицировать комментарии на позитивные и негативные. В вашем распоряжении набор данных с разметкой о токсичности правок.\n",
    "\n",
    "Постройте модель со значением метрики качества *F1* не меньше 0.75. \n",
    "\n",
    "**Инструкция по выполнению проекта**\n",
    "\n",
    "1. Загрузите и подготовьте данные.\n",
    "2. Обучите разные модели. \n",
    "3. Сделайте выводы.\n",
    "\n",
    "Для выполнения проекта применять *BERT* необязательно, но вы можете попробовать.\n",
    "\n",
    "**Описание данных**\n",
    "\n",
    "Данные находятся в файле `toxic_comments.csv`. Столбец *text* в нём содержит текст комментария, а *toxic* — целевой признак."
   ]
  },
  {
   "cell_type": "markdown",
   "metadata": {},
   "source": [
    "## Подготовка"
   ]
  },
  {
   "cell_type": "code",
   "execution_count": 1,
   "metadata": {},
   "outputs": [],
   "source": [
    "import pandas as pd\n",
    "import numpy as np\n",
    "import matplotlib.pyplot as plt\n",
    "import nltk\n",
    "import re\n",
    "import warnings\n",
    "warnings.simplefilter(\"ignore\")\n",
    "\n",
    "from sklearn.metrics import f1_score\n",
    "from sklearn.pipeline import Pipeline\n",
    "from sklearn.model_selection import train_test_split, RandomizedSearchCV\n",
    "from sklearn.feature_extraction.text import TfidfVectorizer\n",
    "from sklearn.linear_model import LogisticRegression\n",
    "from sklearn.tree import DecisionTreeClassifier\n",
    "\n",
    "from pymystem3 import Mystem\n",
    "from nltk.corpus import stopwords as nltk_stopwords\n",
    "from nltk.stem import WordNetLemmatizer\n",
    "from nltk.tokenize import word_tokenize\n",
    "from nltk.corpus import wordnet\n",
    "from nltk import pos_tag\n",
    "from tqdm.notebook import tqdm"
   ]
  },
  {
   "cell_type": "code",
   "execution_count": 2,
   "metadata": {},
   "outputs": [],
   "source": [
    "RANDOM_STATE = 107"
   ]
  },
  {
   "cell_type": "code",
   "execution_count": 3,
   "metadata": {},
   "outputs": [],
   "source": [
    "try:\n",
    "    toxic_comments = pd.read_csv('/datasets/toxic_comments.csv', index_col=0)\n",
    "except:\n",
    "    toxic_comments = pd.read_csv('https://code.s3.yandex.net/datasets/toxic_comments.csv', index_col=0)"
   ]
  },
  {
   "cell_type": "code",
   "execution_count": 4,
   "metadata": {},
   "outputs": [],
   "source": [
    "def descr (df):\n",
    "    display(df.sample(5))\n",
    "    print('---------------------------------------------------------------------------------------------------------')\n",
    "    display(df.info()) \n",
    "    print('---------------------------------------------------------------------------------------------------------')\n",
    "    print(f'Количество дубликатов: {df.duplicated().sum()}')\n",
    "    print('---------------------------------------------------------------------------------------------------------')\n",
    "    print(f'Количество пропусков:  {df.isna().sum()}')\n",
    "    print('---------------------------------------------------------------------------------------------------------')\n",
    "    print(f'Описание: ')\n",
    "    display(df.describe())\n",
    "    print('---------------------------------------------------------------------------------------------------------')\n",
    "    print(f'Размер: {df.shape}')"
   ]
  },
  {
   "cell_type": "code",
   "execution_count": 5,
   "metadata": {},
   "outputs": [
    {
     "data": {
      "text/html": [
       "<div>\n",
       "<style scoped>\n",
       "    .dataframe tbody tr th:only-of-type {\n",
       "        vertical-align: middle;\n",
       "    }\n",
       "\n",
       "    .dataframe tbody tr th {\n",
       "        vertical-align: top;\n",
       "    }\n",
       "\n",
       "    .dataframe thead th {\n",
       "        text-align: right;\n",
       "    }\n",
       "</style>\n",
       "<table border=\"1\" class=\"dataframe\">\n",
       "  <thead>\n",
       "    <tr style=\"text-align: right;\">\n",
       "      <th></th>\n",
       "      <th>text</th>\n",
       "      <th>toxic</th>\n",
       "    </tr>\n",
       "  </thead>\n",
       "  <tbody>\n",
       "    <tr>\n",
       "      <th>107839</th>\n",
       "      <td>I don't think so because libertarianism would ...</td>\n",
       "      <td>0</td>\n",
       "    </tr>\n",
       "    <tr>\n",
       "      <th>121608</th>\n",
       "      <td>HAWKINGS RADIATION\\nhEM, why it is uncomprehen...</td>\n",
       "      <td>0</td>\n",
       "    </tr>\n",
       "    <tr>\n",
       "      <th>140513</th>\n",
       "      <td>Infobox War faction or country? \\n\\nShould the...</td>\n",
       "      <td>0</td>\n",
       "    </tr>\n",
       "    <tr>\n",
       "      <th>72795</th>\n",
       "      <td>Will Always Loathe You]]\\n Bye Bye Ball</td>\n",
       "      <td>1</td>\n",
       "    </tr>\n",
       "    <tr>\n",
       "      <th>42474</th>\n",
       "      <td>Contradiction\\nThe article states Wiggum using...</td>\n",
       "      <td>0</td>\n",
       "    </tr>\n",
       "  </tbody>\n",
       "</table>\n",
       "</div>"
      ],
      "text/plain": [
       "                                                     text  toxic\n",
       "107839  I don't think so because libertarianism would ...      0\n",
       "121608  HAWKINGS RADIATION\\nhEM, why it is uncomprehen...      0\n",
       "140513  Infobox War faction or country? \\n\\nShould the...      0\n",
       "72795             Will Always Loathe You]]\\n Bye Bye Ball      1\n",
       "42474   Contradiction\\nThe article states Wiggum using...      0"
      ]
     },
     "metadata": {},
     "output_type": "display_data"
    },
    {
     "name": "stdout",
     "output_type": "stream",
     "text": [
      "---------------------------------------------------------------------------------------------------------\n",
      "<class 'pandas.core.frame.DataFrame'>\n",
      "Int64Index: 159292 entries, 0 to 159450\n",
      "Data columns (total 2 columns):\n",
      " #   Column  Non-Null Count   Dtype \n",
      "---  ------  --------------   ----- \n",
      " 0   text    159292 non-null  object\n",
      " 1   toxic   159292 non-null  int64 \n",
      "dtypes: int64(1), object(1)\n",
      "memory usage: 3.6+ MB\n"
     ]
    },
    {
     "data": {
      "text/plain": [
       "None"
      ]
     },
     "metadata": {},
     "output_type": "display_data"
    },
    {
     "name": "stdout",
     "output_type": "stream",
     "text": [
      "---------------------------------------------------------------------------------------------------------\n",
      "Количество дубликатов: 0\n",
      "---------------------------------------------------------------------------------------------------------\n",
      "Количество пропусков:  text     0\n",
      "toxic    0\n",
      "dtype: int64\n",
      "---------------------------------------------------------------------------------------------------------\n",
      "Описание: \n"
     ]
    },
    {
     "data": {
      "text/html": [
       "<div>\n",
       "<style scoped>\n",
       "    .dataframe tbody tr th:only-of-type {\n",
       "        vertical-align: middle;\n",
       "    }\n",
       "\n",
       "    .dataframe tbody tr th {\n",
       "        vertical-align: top;\n",
       "    }\n",
       "\n",
       "    .dataframe thead th {\n",
       "        text-align: right;\n",
       "    }\n",
       "</style>\n",
       "<table border=\"1\" class=\"dataframe\">\n",
       "  <thead>\n",
       "    <tr style=\"text-align: right;\">\n",
       "      <th></th>\n",
       "      <th>toxic</th>\n",
       "    </tr>\n",
       "  </thead>\n",
       "  <tbody>\n",
       "    <tr>\n",
       "      <th>count</th>\n",
       "      <td>159292.000000</td>\n",
       "    </tr>\n",
       "    <tr>\n",
       "      <th>mean</th>\n",
       "      <td>0.101612</td>\n",
       "    </tr>\n",
       "    <tr>\n",
       "      <th>std</th>\n",
       "      <td>0.302139</td>\n",
       "    </tr>\n",
       "    <tr>\n",
       "      <th>min</th>\n",
       "      <td>0.000000</td>\n",
       "    </tr>\n",
       "    <tr>\n",
       "      <th>25%</th>\n",
       "      <td>0.000000</td>\n",
       "    </tr>\n",
       "    <tr>\n",
       "      <th>50%</th>\n",
       "      <td>0.000000</td>\n",
       "    </tr>\n",
       "    <tr>\n",
       "      <th>75%</th>\n",
       "      <td>0.000000</td>\n",
       "    </tr>\n",
       "    <tr>\n",
       "      <th>max</th>\n",
       "      <td>1.000000</td>\n",
       "    </tr>\n",
       "  </tbody>\n",
       "</table>\n",
       "</div>"
      ],
      "text/plain": [
       "               toxic\n",
       "count  159292.000000\n",
       "mean        0.101612\n",
       "std         0.302139\n",
       "min         0.000000\n",
       "25%         0.000000\n",
       "50%         0.000000\n",
       "75%         0.000000\n",
       "max         1.000000"
      ]
     },
     "metadata": {},
     "output_type": "display_data"
    },
    {
     "name": "stdout",
     "output_type": "stream",
     "text": [
      "---------------------------------------------------------------------------------------------------------\n",
      "Размер: (159292, 2)\n"
     ]
    }
   ],
   "source": [
    "descr(toxic_comments)"
   ]
  },
  {
   "cell_type": "code",
   "execution_count": 6,
   "metadata": {},
   "outputs": [
    {
     "data": {
      "image/png": "[encoded data removed]",
      "text/plain": [
       "<Figure size 432x288 with 1 Axes>"
      ]
     },
     "metadata": {
      "needs_background": "light"
     },
     "output_type": "display_data"
    }
   ],
   "source": [
    "toxic_comments['toxic'].value_counts(normalize = (0,1)).plot(kind='bar', grid = True)\n",
    "plt.title('Распределение комментариев')\n",
    "plt.xlabel('Комментарии')\n",
    "plt.ylabel('Количество')\n",
    "plt.show()\n",
    "plt.show()"
   ]
  },
  {
   "cell_type": "markdown",
   "metadata": {},
   "source": [
    "**Выводы**\n",
    "\n",
    "Мы загрузили данные. Размер датасета составлял 159292 строки и 3 столбца, после удаления дублирующго столбца осталось  159292 строки и 2 столбца\n",
    "\n",
    "Целевой признак toxic - не сбалансирован классами с перевесом в пользу класса 0. "
   ]
  },
  {
   "cell_type": "markdown",
   "metadata": {},
   "source": [
    "## Обучение"
   ]
  },
  {
   "cell_type": "code",
   "execution_count": 7,
   "metadata": {},
   "outputs": [
    {
     "name": "stderr",
     "output_type": "stream",
     "text": [
      "[nltk_data] Downloading package wordnet to /home/jovyan/nltk_data...\n",
      "[nltk_data]   Package wordnet is already up-to-date!\n",
      "[nltk_data] Downloading package stopwords to /home/jovyan/nltk_data...\n",
      "[nltk_data]   Package stopwords is already up-to-date!\n",
      "[nltk_data] Downloading package punkt to /home/jovyan/nltk_data...\n",
      "[nltk_data]   Package punkt is already up-to-date!\n",
      "[nltk_data] Downloading package averaged_perceptron_tagger to\n",
      "[nltk_data]     /home/jovyan/nltk_data...\n",
      "[nltk_data]   Package averaged_perceptron_tagger is already up-to-\n",
      "[nltk_data]       date!\n"
     ]
    }
   ],
   "source": [
    "nltk.download('wordnet')\n",
    "nltk.download('stopwords')\n",
    "nltk.download('punkt')\n",
    "nltk.download('averaged_perceptron_tagger')\n",
    "stopwords = set(nltk_stopwords.words('english'))"
   ]
  },
  {
   "cell_type": "code",
   "execution_count": 8,
   "metadata": {},
   "outputs": [],
   "source": [
    "lemmatizer = WordNetLemmatizer()\n",
    "\n",
    "def get_wordnet_pos(tag):\n",
    "    if tag.startswith('J'):\n",
    "        return wordnet.ADJ\n",
    "    elif tag.startswith('V'):\n",
    "        return wordnet.VERB\n",
    "    elif tag.startswith('N'):\n",
    "        return wordnet.NOUN\n",
    "    elif tag.startswith('R'):\n",
    "        return wordnet.ADV\n",
    "    else:\n",
    "        return wordnet.NOUN\n",
    "\n",
    "def clean_text(text):\n",
    "    text = text.lower()\n",
    "    tokens = word_tokenize(text)\n",
    "    tagged_tokens = pos_tag(tokens)\n",
    "    lemmas = [lemmatizer.lemmatize(token, get_wordnet_pos(tag)) for token, tag in tagged_tokens]\n",
    "    lemmatized_text = ' '.join(lemmas)\n",
    "    cleaned_text = re.sub(r'[^a-zA-Z\\' ]', '', lemmatized_text)\n",
    "    cleaned_text = cleaned_text.replace('\\n', '')\n",
    "    \n",
    "    return cleaned_text"
   ]
  },
  {
   "cell_type": "code",
   "execution_count": 9,
   "metadata": {},
   "outputs": [
    {
     "data": {
      "application/vnd.jupyter.widget-view+json": {
       "model_id": "6e1ecce895e645aa8569581b671f7257",
       "version_major": 2,
       "version_minor": 0
      },
      "text/plain": [
       "  0%|          | 0/159292 [00:00<?, ?it/s]"
      ]
     },
     "metadata": {},
     "output_type": "display_data"
    }
   ],
   "source": [
    "tqdm.pandas()\n",
    "toxic_comments['lemm_text'] = toxic_comments['text'].progress_apply(clean_text)"
   ]
  },
  {
   "cell_type": "code",
   "execution_count": 10,
   "metadata": {},
   "outputs": [
    {
     "data": {
      "text/html": [
       "<div>\n",
       "<style scoped>\n",
       "    .dataframe tbody tr th:only-of-type {\n",
       "        vertical-align: middle;\n",
       "    }\n",
       "\n",
       "    .dataframe tbody tr th {\n",
       "        vertical-align: top;\n",
       "    }\n",
       "\n",
       "    .dataframe thead th {\n",
       "        text-align: right;\n",
       "    }\n",
       "</style>\n",
       "<table border=\"1\" class=\"dataframe\">\n",
       "  <thead>\n",
       "    <tr style=\"text-align: right;\">\n",
       "      <th></th>\n",
       "      <th>toxic</th>\n",
       "      <th>lemm_text</th>\n",
       "    </tr>\n",
       "  </thead>\n",
       "  <tbody>\n",
       "    <tr>\n",
       "      <th>94742</th>\n",
       "      <td>0</td>\n",
       "      <td>fortunately the real outcome of the war be tha...</td>\n",
       "    </tr>\n",
       "    <tr>\n",
       "      <th>29519</th>\n",
       "      <td>1</td>\n",
       "      <td>also the ip attacker be from california  where...</td>\n",
       "    </tr>\n",
       "    <tr>\n",
       "      <th>69272</th>\n",
       "      <td>1</td>\n",
       "      <td>kitten  i throw them against the wall ''</td>\n",
       "    </tr>\n",
       "    <tr>\n",
       "      <th>128193</th>\n",
       "      <td>0</td>\n",
       "      <td>you be more than welcome to add something  i ...</td>\n",
       "    </tr>\n",
       "    <tr>\n",
       "      <th>155445</th>\n",
       "      <td>0</td>\n",
       "      <td>this be n't war what about his comment about ...</td>\n",
       "    </tr>\n",
       "  </tbody>\n",
       "</table>\n",
       "</div>"
      ],
      "text/plain": [
       "        toxic                                          lemm_text\n",
       "94742       0  fortunately the real outcome of the war be tha...\n",
       "29519       1  also the ip attacker be from california  where...\n",
       "69272       1           kitten  i throw them against the wall ''\n",
       "128193      0   you be more than welcome to add something  i ...\n",
       "155445      0   this be n't war what about his comment about ..."
      ]
     },
     "metadata": {},
     "output_type": "display_data"
    },
    {
     "name": "stdout",
     "output_type": "stream",
     "text": [
      "---------------------------------------------------------------------------------------------------------\n",
      "<class 'pandas.core.frame.DataFrame'>\n",
      "Int64Index: 159292 entries, 0 to 159450\n",
      "Data columns (total 2 columns):\n",
      " #   Column     Non-Null Count   Dtype \n",
      "---  ------     --------------   ----- \n",
      " 0   toxic      159292 non-null  int64 \n",
      " 1   lemm_text  159292 non-null  object\n",
      "dtypes: int64(1), object(1)\n",
      "memory usage: 3.6+ MB\n"
     ]
    },
    {
     "data": {
      "text/plain": [
       "None"
      ]
     },
     "metadata": {},
     "output_type": "display_data"
    },
    {
     "name": "stdout",
     "output_type": "stream",
     "text": [
      "---------------------------------------------------------------------------------------------------------\n",
      "Количество дубликатов: 627\n",
      "---------------------------------------------------------------------------------------------------------\n",
      "Количество пропусков:  toxic        0\n",
      "lemm_text    0\n",
      "dtype: int64\n",
      "---------------------------------------------------------------------------------------------------------\n",
      "Описание: \n"
     ]
    },
    {
     "data": {
      "text/html": [
       "<div>\n",
       "<style scoped>\n",
       "    .dataframe tbody tr th:only-of-type {\n",
       "        vertical-align: middle;\n",
       "    }\n",
       "\n",
       "    .dataframe tbody tr th {\n",
       "        vertical-align: top;\n",
       "    }\n",
       "\n",
       "    .dataframe thead th {\n",
       "        text-align: right;\n",
       "    }\n",
       "</style>\n",
       "<table border=\"1\" class=\"dataframe\">\n",
       "  <thead>\n",
       "    <tr style=\"text-align: right;\">\n",
       "      <th></th>\n",
       "      <th>toxic</th>\n",
       "    </tr>\n",
       "  </thead>\n",
       "  <tbody>\n",
       "    <tr>\n",
       "      <th>count</th>\n",
       "      <td>159292.000000</td>\n",
       "    </tr>\n",
       "    <tr>\n",
       "      <th>mean</th>\n",
       "      <td>0.101612</td>\n",
       "    </tr>\n",
       "    <tr>\n",
       "      <th>std</th>\n",
       "      <td>0.302139</td>\n",
       "    </tr>\n",
       "    <tr>\n",
       "      <th>min</th>\n",
       "      <td>0.000000</td>\n",
       "    </tr>\n",
       "    <tr>\n",
       "      <th>25%</th>\n",
       "      <td>0.000000</td>\n",
       "    </tr>\n",
       "    <tr>\n",
       "      <th>50%</th>\n",
       "      <td>0.000000</td>\n",
       "    </tr>\n",
       "    <tr>\n",
       "      <th>75%</th>\n",
       "      <td>0.000000</td>\n",
       "    </tr>\n",
       "    <tr>\n",
       "      <th>max</th>\n",
       "      <td>1.000000</td>\n",
       "    </tr>\n",
       "  </tbody>\n",
       "</table>\n",
       "</div>"
      ],
      "text/plain": [
       "               toxic\n",
       "count  159292.000000\n",
       "mean        0.101612\n",
       "std         0.302139\n",
       "min         0.000000\n",
       "25%         0.000000\n",
       "50%         0.000000\n",
       "75%         0.000000\n",
       "max         1.000000"
      ]
     },
     "metadata": {},
     "output_type": "display_data"
    },
    {
     "name": "stdout",
     "output_type": "stream",
     "text": [
      "---------------------------------------------------------------------------------------------------------\n",
      "Размер: (159292, 2)\n"
     ]
    }
   ],
   "source": [
    "toxic_comments = toxic_comments.drop(['text'], axis=1)\n",
    "descr(toxic_comments)"
   ]
  },
  {
   "cell_type": "markdown",
   "metadata": {},
   "source": [
    "Мы видим что у нас после лемматизизации и очистке текста появилось  1276 дубликатов, удалим их"
   ]
  },
  {
   "cell_type": "code",
   "execution_count": 11,
   "metadata": {},
   "outputs": [
    {
     "data": {
      "text/plain": [
       "0"
      ]
     },
     "execution_count": 11,
     "metadata": {},
     "output_type": "execute_result"
    }
   ],
   "source": [
    "toxic_comments = toxic_comments.drop_duplicates()\n",
    "toxic_comments.duplicated().sum()"
   ]
  },
  {
   "cell_type": "markdown",
   "metadata": {},
   "source": [
    "*Разбивка на выборки*"
   ]
  },
  {
   "cell_type": "code",
   "execution_count": 12,
   "metadata": {},
   "outputs": [],
   "source": [
    "X = toxic_comments.drop('toxic', axis = 1)\n",
    "y = toxic_comments['toxic']\n",
    "X_train, X_test, y_train, y_test = train_test_split(X,\n",
    "                                                    y,\n",
    "                                                    test_size=0.4,\n",
    "                                                    stratify=y,\n",
    "                                                    random_state=RANDOM_STATE)"
   ]
  },
  {
   "cell_type": "code",
   "execution_count": 13,
   "metadata": {
    "scrolled": true
   },
   "outputs": [
    {
     "name": "stdout",
     "output_type": "stream",
     "text": [
      "Размер тренировочной выборки: (95199, 1)\n",
      "Размер тестовой выборки: (63466, 1)\n"
     ]
    }
   ],
   "source": [
    "print(f'Размер тренировочной выборки: {X_train.shape}')\n",
    "print(f'Размер тестовой выборки: {X_test.shape}')   "
   ]
  },
  {
   "cell_type": "markdown",
   "metadata": {},
   "source": [
    "*Создадим пайплайн*"
   ]
  },
  {
   "cell_type": "code",
   "execution_count": 14,
   "metadata": {},
   "outputs": [],
   "source": [
    "pipeline = Pipeline(\n",
    "    [\n",
    "        ('vect', TfidfVectorizer(stop_words=stopwords)),\n",
    "        ('clf', LogisticRegression(solver='liblinear', random_state = RANDOM_STATE)),\n",
    "    ]\n",
    ")\n",
    "param_grid = [\n",
    "    {\n",
    "        'clf': [DecisionTreeClassifier(random_state=RANDOM_STATE)],\n",
    "        'clf__max_depth': range(2, 8)\n",
    "    },\n",
    "    {\n",
    "        'clf': [LogisticRegression(\n",
    "            random_state=RANDOM_STATE,\n",
    "            solver='liblinear',\n",
    "        )],\n",
    "        'clf__penalty': ('l1', 'l2'),\n",
    "        'clf__C': list(range(5, 15, 1))\n",
    "    }\n",
    "]"
   ]
  },
  {
   "cell_type": "code",
   "execution_count": 15,
   "metadata": {},
   "outputs": [
    {
     "data": {
      "text/plain": [
       "RandomizedSearchCV(cv=5, error_score='raise',\n",
       "                   estimator=Pipeline(steps=[('vect',\n",
       "                                              TfidfVectorizer(stop_words={'a',\n",
       "                                                                          'about',\n",
       "                                                                          'above',\n",
       "                                                                          'after',\n",
       "                                                                          'again',\n",
       "                                                                          'against',\n",
       "                                                                          'ain',\n",
       "                                                                          'all',\n",
       "                                                                          'am',\n",
       "                                                                          'an',\n",
       "                                                                          'and',\n",
       "                                                                          'any',\n",
       "                                                                          'are',\n",
       "                                                                          'aren',\n",
       "                                                                          \"aren't\",\n",
       "                                                                          'as',\n",
       "                                                                          'at',\n",
       "                                                                          'be',\n",
       "                                                                          'because',\n",
       "                                                                          'been',\n",
       "                                                                          'before',\n",
       "                                                                          'being',\n",
       "                                                                          'below',\n",
       "                                                                          'between',\n",
       "                                                                          'both',\n",
       "                                                                          'but',\n",
       "                                                                          'by',\n",
       "                                                                          'can',\n",
       "                                                                          'couldn',\n",
       "                                                                          \"couldn't\", ...})),\n",
       "                                             ('clf',\n",
       "                                              LogisticRegression(random_state=107,\n",
       "                                                                 solver='liblinear'))]),\n",
       "                   n_iter=5, n_jobs=-1,\n",
       "                   param_distributions=[{'clf': [DecisionTreeClassifier(random_state=107)],\n",
       "                                         'clf__max_depth': range(2, 8)},\n",
       "                                        {'clf': [LogisticRegression(C=11,\n",
       "                                                                    random_state=107,\n",
       "                                                                    solver='liblinear')],\n",
       "                                         'clf__C': [5, 6, 7, 8, 9, 10, 11, 12,\n",
       "                                                    13, 14],\n",
       "                                         'clf__penalty': ('l1', 'l2')}],\n",
       "                   random_state=107, scoring='f1')"
      ]
     },
     "execution_count": 15,
     "metadata": {},
     "output_type": "execute_result"
    }
   ],
   "source": [
    "r_search = RandomizedSearchCV(\n",
    "    estimator=pipeline,\n",
    "    param_distributions=param_grid,\n",
    "    scoring='f1',\n",
    "    n_iter=5,\n",
    "    random_state=RANDOM_STATE,\n",
    "    n_jobs=-1,\n",
    "    cv=5,\n",
    "    error_score='raise'\n",
    ")\n",
    "r_search.fit(X_train['lemm_text'], y_train)"
   ]
  },
  {
   "cell_type": "code",
   "execution_count": 16,
   "metadata": {},
   "outputs": [
    {
     "name": "stdout",
     "output_type": "stream",
     "text": [
      "Лучшие параметры: {'clf__penalty': 'l2', 'clf__C': 11, 'clf': LogisticRegression(C=11, random_state=107, solver='liblinear')}\n",
      "Лучшая метрика F1: 0.7668028365460003\n"
     ]
    }
   ],
   "source": [
    "print('Лучшие параметры:', r_search.best_params_)\n",
    "print('Лучшая метрика F1:', r_search.best_score_)"
   ]
  },
  {
   "cell_type": "markdown",
   "metadata": {},
   "source": [
    "Предсказание модели"
   ]
  },
  {
   "cell_type": "code",
   "execution_count": 17,
   "metadata": {},
   "outputs": [
    {
     "name": "stdout",
     "output_type": "stream",
     "text": [
      "Лучшая метрика F1 на тестовой выборке: 0.7682788671023965\n"
     ]
    }
   ],
   "source": [
    "preds = r_search.predict(X_test['lemm_text'])\n",
    "print('Лучшая метрика F1 на тестовой выборке:', f1_score(y_test, preds))"
   ]
  },
  {
   "cell_type": "markdown",
   "metadata": {},
   "source": [
    "## Выводы"
   ]
  },
  {
   "cell_type": "markdown",
   "metadata": {},
   "source": [
    "Мы загрузили данные. Размер датасета составлял 159292 строки и 3 столбца, после удаления дублирующего столбца осталось 159292 строки и 2 столбца. Пропущенных значений и дубликатов не обнаружено.\n",
    "\n",
    "\n",
    "Мы видим что у нас после лемматизизации и очистке текста появилось 1276 дубликатов, мы их удалили. Что в принципе, не совсем верно учитывая то, что могут быть похожие комментарии, которые после очистки могут стать дубликатами.\n",
    "\n",
    "Провели обучение модели и получили:\n",
    "\n",
    "- Лучшие параметры: {'clf__penalty': 'l2', 'clf__C': 11, 'clf': LogisticRegression(C=11, random_state=107, solver='liblinear')}\n",
    "- Лучшая метрика F1: 0.7641251370092481\n",
    "- Лучшая метрика F1 на тестовой выборке: 0.7667399912010558\n",
    "\n",
    "Что соответствует условию задачи"
   ]
  },
  {
   "cell_type": "markdown",
   "metadata": {},
   "source": [
    "## Чек-лист проверки"
   ]
  },
  {
   "cell_type": "markdown",
   "metadata": {},
   "source": [
    "- [x]  Jupyter Notebook открыт\n",
    "- [x]  Весь код выполняется без ошибок\n",
    "- [x]  Ячейки с кодом расположены в порядке исполнения\n",
    "- [x]  Данные загружены и подготовлены\n",
    "- [x]  Модели обучены\n",
    "- [x]  Значение метрики *F1* не меньше 0.75\n",
    "- [x]  Выводы написаны"
   ]
  },
  {
   "cell_type": "code",
   "execution_count": null,
   "metadata": {},
   "outputs": [],
   "source": []
  }
 ],
 "metadata": {
  "ExecuteTimeLog": [
   {
    "duration": 49,
    "start_time": "2024-06-26T12:27:46.959Z"
   },
   {
    "duration": 1321,
    "start_time": "2024-06-26T12:27:50.887Z"
   },
   {
    "duration": 2396,
    "start_time": "2024-06-26T12:27:54.927Z"
   },
   {
    "duration": 6,
    "start_time": "2024-06-26T12:28:22.275Z"
   },
   {
    "duration": 884,
    "start_time": "2024-06-26T12:33:56.686Z"
   },
   {
    "duration": 4,
    "start_time": "2024-06-26T12:34:01.616Z"
   },
   {
    "duration": 309,
    "start_time": "2024-06-26T12:34:07.121Z"
   },
   {
    "duration": 595,
    "start_time": "2024-06-26T12:35:46.355Z"
   },
   {
    "duration": 82,
    "start_time": "2024-06-26T12:39:36.876Z"
   },
   {
    "duration": 199,
    "start_time": "2024-06-26T12:39:59.259Z"
   },
   {
    "duration": 4,
    "start_time": "2024-06-26T12:40:36.114Z"
   },
   {
    "duration": 1272,
    "start_time": "2024-06-26T12:40:44.636Z"
   },
   {
    "duration": 108,
    "start_time": "2024-06-26T12:41:00.000Z"
   },
   {
    "duration": 36,
    "start_time": "2024-06-26T12:45:46.641Z"
   },
   {
    "duration": 251,
    "start_time": "2024-06-26T12:53:30.527Z"
   },
   {
    "duration": 6,
    "start_time": "2024-06-26T12:54:05.816Z"
   },
   {
    "duration": 13,
    "start_time": "2024-06-26T12:54:47.759Z"
   },
   {
    "duration": 475,
    "start_time": "2024-06-26T12:55:03.044Z"
   },
   {
    "duration": 493,
    "start_time": "2024-06-26T12:55:35.130Z"
   },
   {
    "duration": 6,
    "start_time": "2024-06-26T12:55:38.276Z"
   },
   {
    "duration": 622507,
    "start_time": "2024-06-26T12:55:39.320Z"
   },
   {
    "duration": 35,
    "start_time": "2024-06-26T13:07:31.022Z"
   },
   {
    "duration": 14,
    "start_time": "2024-06-26T13:09:35.535Z"
   },
   {
    "duration": 1576,
    "start_time": "2024-06-26T13:09:58.588Z"
   },
   {
    "duration": 998,
    "start_time": "2024-06-26T13:10:00.166Z"
   },
   {
    "duration": 3,
    "start_time": "2024-06-26T13:10:01.166Z"
   },
   {
    "duration": 343,
    "start_time": "2024-06-26T13:10:01.171Z"
   },
   {
    "duration": 208,
    "start_time": "2024-06-26T13:10:01.516Z"
   },
   {
    "duration": 13,
    "start_time": "2024-06-26T13:10:01.726Z"
   },
   {
    "duration": 268,
    "start_time": "2024-06-26T13:10:01.740Z"
   },
   {
    "duration": 5,
    "start_time": "2024-06-26T13:10:02.009Z"
   },
   {
    "duration": 256700,
    "start_time": "2024-06-26T13:10:02.016Z"
   },
   {
    "duration": 0,
    "start_time": "2024-06-26T13:14:18.718Z"
   },
   {
    "duration": 10,
    "start_time": "2024-06-26T13:20:10.069Z"
   },
   {
    "duration": 1638,
    "start_time": "2024-06-26T13:22:05.645Z"
   },
   {
    "duration": 930,
    "start_time": "2024-06-26T13:22:07.285Z"
   },
   {
    "duration": 4,
    "start_time": "2024-06-26T13:22:08.216Z"
   },
   {
    "duration": 338,
    "start_time": "2024-06-26T13:22:08.221Z"
   },
   {
    "duration": 202,
    "start_time": "2024-06-26T13:22:08.560Z"
   },
   {
    "duration": 12,
    "start_time": "2024-06-26T13:22:08.763Z"
   },
   {
    "duration": 269,
    "start_time": "2024-06-26T13:22:08.777Z"
   },
   {
    "duration": 4,
    "start_time": "2024-06-26T13:22:11.779Z"
   },
   {
    "duration": 1588,
    "start_time": "2024-06-26T13:23:47.540Z"
   },
   {
    "duration": 957,
    "start_time": "2024-06-26T13:23:49.130Z"
   },
   {
    "duration": 4,
    "start_time": "2024-06-26T13:23:50.089Z"
   },
   {
    "duration": 327,
    "start_time": "2024-06-26T13:23:50.095Z"
   },
   {
    "duration": 202,
    "start_time": "2024-06-26T13:23:50.424Z"
   },
   {
    "duration": 12,
    "start_time": "2024-06-26T13:23:50.627Z"
   },
   {
    "duration": 268,
    "start_time": "2024-06-26T13:23:50.641Z"
   },
   {
    "duration": 3,
    "start_time": "2024-06-26T13:23:50.911Z"
   },
   {
    "duration": 85525,
    "start_time": "2024-06-26T13:23:50.916Z"
   },
   {
    "duration": 15,
    "start_time": "2024-06-26T13:25:16.443Z"
   },
   {
    "duration": 305,
    "start_time": "2024-06-26T13:25:16.459Z"
   },
   {
    "duration": 373,
    "start_time": "2024-06-26T13:31:53.509Z"
   },
   {
    "duration": 136,
    "start_time": "2024-06-26T13:32:16.960Z"
   },
   {
    "duration": 16,
    "start_time": "2024-06-26T13:32:34.395Z"
   },
   {
    "duration": 3,
    "start_time": "2024-06-26T13:33:08.680Z"
   },
   {
    "duration": 65,
    "start_time": "2024-06-26T13:33:18.234Z"
   },
   {
    "duration": 3,
    "start_time": "2024-06-26T13:40:12.584Z"
   },
   {
    "duration": 5,
    "start_time": "2024-06-26T13:44:15.051Z"
   },
   {
    "duration": 4,
    "start_time": "2024-06-26T13:45:05.755Z"
   },
   {
    "duration": 1483,
    "start_time": "2024-06-26T13:48:54.086Z"
   },
   {
    "duration": 2,
    "start_time": "2024-06-26T13:48:55.571Z"
   },
   {
    "duration": 963,
    "start_time": "2024-06-26T13:48:55.575Z"
   },
   {
    "duration": 4,
    "start_time": "2024-06-26T13:48:56.540Z"
   },
   {
    "duration": 327,
    "start_time": "2024-06-26T13:48:56.547Z"
   },
   {
    "duration": 199,
    "start_time": "2024-06-26T13:48:56.876Z"
   },
   {
    "duration": 13,
    "start_time": "2024-06-26T13:48:57.076Z"
   },
   {
    "duration": 206,
    "start_time": "2024-06-26T13:48:57.090Z"
   },
   {
    "duration": 4,
    "start_time": "2024-06-26T13:48:57.297Z"
   },
   {
    "duration": 85578,
    "start_time": "2024-06-26T13:48:57.302Z"
   },
   {
    "duration": 296,
    "start_time": "2024-06-26T13:50:22.881Z"
   },
   {
    "duration": 383,
    "start_time": "2024-06-26T13:50:23.179Z"
   },
   {
    "duration": 67,
    "start_time": "2024-06-26T13:50:23.563Z"
   },
   {
    "duration": 3,
    "start_time": "2024-06-26T13:50:23.633Z"
   },
   {
    "duration": 17,
    "start_time": "2024-06-26T13:50:23.638Z"
   },
   {
    "duration": 312922,
    "start_time": "2024-06-26T13:50:23.656Z"
   },
   {
    "duration": 4,
    "start_time": "2024-06-26T13:59:44.494Z"
   },
   {
    "duration": 2800,
    "start_time": "2024-06-26T14:10:22.699Z"
   },
   {
    "duration": 2687,
    "start_time": "2024-06-26T14:12:21.318Z"
   },
   {
    "duration": 67,
    "start_time": "2024-06-26T14:51:02.521Z"
   },
   {
    "duration": 1735,
    "start_time": "2024-06-27T06:55:49.710Z"
   },
   {
    "duration": 3448,
    "start_time": "2024-06-27T06:56:13.469Z"
   },
   {
    "duration": 3,
    "start_time": "2024-06-27T06:56:19.532Z"
   },
   {
    "duration": 4,
    "start_time": "2024-06-27T06:56:21.385Z"
   },
   {
    "duration": 313,
    "start_time": "2024-06-27T06:56:25.669Z"
   },
   {
    "duration": 3,
    "start_time": "2024-06-27T06:56:44.336Z"
   },
   {
    "duration": 283,
    "start_time": "2024-06-27T06:56:45.217Z"
   },
   {
    "duration": 149,
    "start_time": "2024-06-27T07:14:03.243Z"
   },
   {
    "duration": 96,
    "start_time": "2024-06-27T07:20:25.464Z"
   },
   {
    "duration": 145,
    "start_time": "2024-06-27T07:24:04.144Z"
   },
   {
    "duration": 4029,
    "start_time": "2024-06-27T07:26:05.200Z"
   },
   {
    "duration": 16,
    "start_time": "2024-06-27T07:26:10.873Z"
   },
   {
    "duration": 531,
    "start_time": "2024-06-27T07:27:01.199Z"
   },
   {
    "duration": 7,
    "start_time": "2024-06-27T07:27:03.457Z"
   },
   {
    "duration": 4875,
    "start_time": "2024-06-27T07:28:04.874Z"
   },
   {
    "duration": 35,
    "start_time": "2024-06-27T07:28:26.455Z"
   },
   {
    "duration": 19,
    "start_time": "2024-06-27T07:29:15.283Z"
   },
   {
    "duration": 6,
    "start_time": "2024-06-27T07:30:30.371Z"
   },
   {
    "duration": 804286,
    "start_time": "2024-06-27T07:30:40.440Z"
   },
   {
    "duration": 107,
    "start_time": "2024-06-27T07:45:46.421Z"
   },
   {
    "duration": 68,
    "start_time": "2024-06-27T07:45:52.772Z"
   },
   {
    "duration": 1552,
    "start_time": "2024-06-27T07:46:19.642Z"
   },
   {
    "duration": 2,
    "start_time": "2024-06-27T07:46:21.197Z"
   },
   {
    "duration": 955,
    "start_time": "2024-06-27T07:46:21.201Z"
   },
   {
    "duration": 7,
    "start_time": "2024-06-27T07:46:22.158Z"
   },
   {
    "duration": 379,
    "start_time": "2024-06-27T07:46:22.167Z"
   },
   {
    "duration": 136,
    "start_time": "2024-06-27T07:46:22.547Z"
   },
   {
    "duration": 2763,
    "start_time": "2024-06-27T07:46:22.685Z"
   },
   {
    "duration": 12,
    "start_time": "2024-06-27T07:46:25.451Z"
   },
   {
    "duration": 265,
    "start_time": "2024-06-27T07:46:25.464Z"
   },
   {
    "duration": 9,
    "start_time": "2024-06-27T07:46:25.731Z"
   },
   {
    "duration": 1579,
    "start_time": "2024-06-27T07:46:54.213Z"
   },
   {
    "duration": 3,
    "start_time": "2024-06-27T07:47:00.371Z"
   },
   {
    "duration": 904,
    "start_time": "2024-06-27T07:47:01.245Z"
   },
   {
    "duration": 4,
    "start_time": "2024-06-27T07:47:05.055Z"
   },
   {
    "duration": 381,
    "start_time": "2024-06-27T07:47:05.844Z"
   },
   {
    "duration": 125,
    "start_time": "2024-06-27T07:47:10.248Z"
   },
   {
    "duration": 216,
    "start_time": "2024-06-27T07:47:16.372Z"
   },
   {
    "duration": 5,
    "start_time": "2024-06-27T07:47:17.437Z"
   },
   {
    "duration": 156,
    "start_time": "2024-06-27T07:47:21.555Z"
   },
   {
    "duration": 116254,
    "start_time": "2024-06-27T07:47:30.556Z"
   },
   {
    "duration": 592702,
    "start_time": "2024-06-27T07:49:43.646Z"
   },
   {
    "duration": 309,
    "start_time": "2024-06-27T07:59:36.351Z"
   },
   {
    "duration": 448,
    "start_time": "2024-06-27T07:59:36.661Z"
   },
   {
    "duration": 52,
    "start_time": "2024-06-27T07:59:37.112Z"
   },
   {
    "duration": 3,
    "start_time": "2024-06-27T07:59:37.165Z"
   },
   {
    "duration": 8,
    "start_time": "2024-06-27T07:59:37.170Z"
   },
   {
    "duration": 11,
    "start_time": "2024-06-27T08:01:53.145Z"
   },
   {
    "duration": 5,
    "start_time": "2024-06-27T08:03:31.466Z"
   },
   {
    "duration": 272866,
    "start_time": "2024-06-27T08:03:32.471Z"
   },
   {
    "duration": 4,
    "start_time": "2024-06-27T08:08:05.340Z"
   },
   {
    "duration": 2669,
    "start_time": "2024-06-27T08:08:05.345Z"
   },
   {
    "duration": 6,
    "start_time": "2024-06-27T08:11:26.767Z"
   },
   {
    "duration": 19,
    "start_time": "2024-06-27T08:11:27.723Z"
   },
   {
    "duration": 22,
    "start_time": "2024-06-27T08:12:23.923Z"
   },
   {
    "duration": 4,
    "start_time": "2024-06-27T08:53:23.452Z"
   },
   {
    "duration": 11,
    "start_time": "2024-06-27T08:54:12.204Z"
   },
   {
    "duration": 3,
    "start_time": "2024-06-27T08:54:57.453Z"
   },
   {
    "duration": 3,
    "start_time": "2024-06-27T08:55:09.836Z"
   },
   {
    "duration": 194,
    "start_time": "2024-06-27T08:55:45.566Z"
   },
   {
    "duration": 146,
    "start_time": "2024-06-27T08:56:10.790Z"
   },
   {
    "duration": 2680,
    "start_time": "2024-06-27T09:00:18.876Z"
   },
   {
    "duration": 18,
    "start_time": "2024-06-27T09:00:23.593Z"
   },
   {
    "duration": 3,
    "start_time": "2024-06-27T09:01:38.306Z"
   },
   {
    "duration": 24,
    "start_time": "2024-06-27T09:01:53.721Z"
   },
   {
    "duration": 18,
    "start_time": "2024-06-27T09:02:36.812Z"
   },
   {
    "duration": 109,
    "start_time": "2024-06-27T09:03:30.061Z"
   },
   {
    "duration": 24712,
    "start_time": "2024-06-27T09:03:34.936Z"
   },
   {
    "duration": 1510,
    "start_time": "2024-06-27T09:06:35.900Z"
   },
   {
    "duration": 3,
    "start_time": "2024-06-27T09:06:37.412Z"
   },
   {
    "duration": 859,
    "start_time": "2024-06-27T09:06:37.419Z"
   },
   {
    "duration": 5,
    "start_time": "2024-06-27T09:06:38.280Z"
   },
   {
    "duration": 391,
    "start_time": "2024-06-27T09:06:38.286Z"
   },
   {
    "duration": 126,
    "start_time": "2024-06-27T09:06:38.678Z"
   },
   {
    "duration": 295,
    "start_time": "2024-06-27T09:06:38.806Z"
   },
   {
    "duration": 5,
    "start_time": "2024-06-27T09:06:39.103Z"
   },
   {
    "duration": 575020,
    "start_time": "2024-06-27T09:06:39.110Z"
   },
   {
    "duration": 305,
    "start_time": "2024-06-27T09:16:14.132Z"
   },
   {
    "duration": 421,
    "start_time": "2024-06-27T09:16:14.439Z"
   },
   {
    "duration": 62,
    "start_time": "2024-06-27T09:16:14.861Z"
   },
   {
    "duration": 4,
    "start_time": "2024-06-27T09:16:14.925Z"
   },
   {
    "duration": 9,
    "start_time": "2024-06-27T09:16:14.931Z"
   },
   {
    "duration": 272203,
    "start_time": "2024-06-27T09:16:14.942Z"
   },
   {
    "duration": 4,
    "start_time": "2024-06-27T09:20:47.146Z"
   },
   {
    "duration": 2581,
    "start_time": "2024-06-27T09:20:47.151Z"
   },
   {
    "duration": 5,
    "start_time": "2024-06-27T09:20:49.734Z"
   }
  ],
  "kernelspec": {
   "display_name": "Python 3 (ipykernel)",
   "language": "python",
   "name": "python3"
  },
  "language_info": {
   "codemirror_mode": {
    "name": "ipython",
    "version": 3
   },
   "file_extension": ".py",
   "mimetype": "text/x-python",
   "name": "python",
   "nbconvert_exporter": "python",
   "pygments_lexer": "ipython3",
   "version": "3.11.4"
  },
  "toc": {
   "base_numbering": 1,
   "nav_menu": {},
   "number_sections": true,
   "sideBar": true,
   "skip_h1_title": true,
   "title_cell": "Содержание",
   "title_sidebar": "Contents",
   "toc_cell": true,
   "toc_position": {
    "height": "calc(100% - 180px)",
    "left": "10px",
    "top": "150px",
    "width": "302.391px"
   },
   "toc_section_display": true,
   "toc_window_display": true
  }
 },
 "nbformat": 4,
 "nbformat_minor": 2
}
